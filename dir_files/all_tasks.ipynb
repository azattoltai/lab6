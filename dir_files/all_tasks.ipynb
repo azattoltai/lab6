{
 "cells": [
  {
   "cell_type": "markdown",
   "metadata": {},
   "source": [
    "Task 1\n"
   ]
  },
  {
   "cell_type": "code",
   "execution_count": null,
   "metadata": {},
   "outputs": [
    {
     "name": "stdout",
     "output_type": "stream",
     "text": [
      "['file2.txt', 'file.txt', 'file3.txt', 'builtin-functions', 'dir_files', 'README.md', '.git']\n",
      "['builtin-functions', 'dir_files', '.git']\n",
      "['file2.txt', 'file.txt', 'file3.txt', 'README.md']\n"
     ]
    }
   ],
   "source": [
    "import os\n",
    "from string import ascii_uppercase\n",
    "\n",
    "location1 = r'/Users/azattoltai/Desktop/lab6'\n",
    "print([name for name in os.listdir(location1)]) \n",
    "print([name for name in os.listdir(location1) if os.path.isdir(os.path.join(location1, name))]) #only directories\n",
    "print([name for name in os.listdir(location1) if not os.path.isdir(os.path.join(location1, name))]) #only files\n",
    "\n"
   ]
  },
  {
   "cell_type": "markdown",
   "metadata": {},
   "source": [
    "Task 2"
   ]
  },
  {
   "cell_type": "code",
   "execution_count": 3,
   "metadata": {},
   "outputs": [
    {
     "name": "stdout",
     "output_type": "stream",
     "text": [
      "Path exists: True\n",
      "Path readable: True\n",
      "Path writable: True\n",
      "Path executable: True\n"
     ]
    }
   ],
   "source": [
    "print('Path exists:', os.access(r'/Users/azattoltai/Desktop/lab6', os.F_OK))\n",
    "print('Path readable:', os.access(r'/Users/azattoltai/Desktop/lab6', os.R_OK))\n",
    "print('Path writable:', os.access(r'/Users/azattoltai/Desktop/lab6', os.W_OK))\n",
    "print('Path executable:', os.access(r'/Users/azattoltai/Desktop/lab6', os.X_OK))"
   ]
  },
  {
   "cell_type": "markdown",
   "metadata": {},
   "source": [
    "Task 3"
   ]
  },
  {
   "cell_type": "code",
   "execution_count": 6,
   "metadata": {},
   "outputs": [
    {
     "name": "stdout",
     "output_type": "stream",
     "text": [
      "Directories: builtin-functions, dir_files, .git\n",
      "Files: file2.txt, file.txt, file3.txt, .DS_Store, README.md\n"
     ]
    }
   ],
   "source": [
    "path = input('Insert path \\n')\n",
    "path_bool = os.access(path, os.F_OK)\n",
    "if path_bool == False:\n",
    "    print(\"Path does not exist\")\n",
    "elif path_bool == True:\n",
    "    print(\"Directories:\", ', '.join([name for name in os.listdir(path) if os.path.isdir(os.path.join(path, name))]))\n",
    "    print(\"Files:\", ', '.join([name for name in os.listdir(path) if not os.path.isdir(os.path.join(path, name))]))"
   ]
  },
  {
   "cell_type": "markdown",
   "metadata": {},
   "source": [
    "Task 4"
   ]
  },
  {
   "cell_type": "code",
   "execution_count": 9,
   "metadata": {},
   "outputs": [
    {
     "name": "stdout",
     "output_type": "stream",
     "text": [
      "Number of lines: 0\n"
     ]
    }
   ],
   "source": [
    "import os\n",
    "from string import ascii_uppercase\n",
    "\n",
    "with open(r'/Users/azattoltai/Desktop/lab6/file.txt', 'r') as file:\n",
    "    x = len(file.readlines())\n",
    "    print(\"Number of lines:\", x)"
   ]
  },
  {
   "cell_type": "markdown",
   "metadata": {},
   "source": [
    "Task 5"
   ]
  },
  {
   "cell_type": "code",
   "execution_count": 10,
   "metadata": {},
   "outputs": [],
   "source": [
    "mylist = ['A', 'B', 'C', 'D']\n",
    "with open(r'/Users/azattoltai/Desktop/lab6/file2.txt', 'w') as file:\n",
    "    for i in mylist:\n",
    "        file.write(i + '\\n')\n",
    "file.close()"
   ]
  },
  {
   "cell_type": "markdown",
   "metadata": {},
   "source": [
    "Task 6\n"
   ]
  },
  {
   "cell_type": "code",
   "execution_count": 12,
   "metadata": {},
   "outputs": [],
   "source": [
    "import string\n",
    "\n",
    "def generate_text_files():\n",
    "    for letter in string.ascii_uppercase:\n",
    "        with open(f\"{letter}.txt\", 'w') as file:\n",
    "            file.write(f\"This is the file {letter}.txt\")"
   ]
  },
  {
   "cell_type": "markdown",
   "metadata": {},
   "source": [
    "Task 7"
   ]
  },
  {
   "cell_type": "code",
   "execution_count": 19,
   "metadata": {},
   "outputs": [],
   "source": [
    "import os\n",
    "from string import ascii_uppercase\n",
    "\n",
    "with open(r'/Users/azattoltai/Desktop/lab6/file2.txt', 'r') as file1, open(r'/Users/azattoltai/Desktop/lab6/file3.txt', 'a') as file2:\n",
    "    for line in file1:\n",
    "        file2.write(line)"
   ]
  },
  {
   "cell_type": "markdown",
   "metadata": {},
   "source": [
    "Task 8"
   ]
  },
  {
   "cell_type": "code",
   "execution_count": 18,
   "metadata": {},
   "outputs": [
    {
     "name": "stdout",
     "output_type": "stream",
     "text": [
      "File has been removed\n"
     ]
    }
   ],
   "source": [
    "path = r'/Users/azattoltai/Desktop/lab6/file.txt'\n",
    "path_bool = os.access(path, os.F_OK)\n",
    "if path_bool == False:\n",
    "    print('Path does not exist')\n",
    "elif path_bool == True:\n",
    "    os.remove(path)\n",
    "    print(\"File has been removed\")"
   ]
  }
 ],
 "metadata": {
  "kernelspec": {
   "display_name": "Python 3",
   "language": "python",
   "name": "python3"
  },
  "language_info": {
   "codemirror_mode": {
    "name": "ipython",
    "version": 3
   },
   "file_extension": ".py",
   "mimetype": "text/x-python",
   "name": "python",
   "nbconvert_exporter": "python",
   "pygments_lexer": "ipython3",
   "version": "3.12.3"
  }
 },
 "nbformat": 4,
 "nbformat_minor": 2
}
