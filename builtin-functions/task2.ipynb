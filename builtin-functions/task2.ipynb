{
 "cells": [
  {
   "cell_type": "code",
   "execution_count": 1,
   "metadata": {},
   "outputs": [
    {
     "name": "stdout",
     "output_type": "stream",
     "text": [
      "Upper case letters: 4\n",
      "Lower case letters: 6\n"
     ]
    }
   ],
   "source": [
    "def count_upper_lower(s):\n",
    "    upper_count = sum(1 for c in s if c.isupper())\n",
    "    lower_count = sum(1 for c in s if c.islower())\n",
    "    return upper_count, lower_count\n",
    "\n",
    "\n",
    "input_string = \"HeLlo WoRld!\"\n",
    "upper, lower = count_upper_lower(input_string)\n",
    "print(f\"Upper case letters: {upper}\")\n",
    "print(f\"Lower case letters: {lower}\")"
   ]
  }
 ],
 "metadata": {
  "kernelspec": {
   "display_name": "Python 3",
   "language": "python",
   "name": "python3"
  },
  "language_info": {
   "codemirror_mode": {
    "name": "ipython",
    "version": 3
   },
   "file_extension": ".py",
   "mimetype": "text/x-python",
   "name": "python",
   "nbconvert_exporter": "python",
   "pygments_lexer": "ipython3",
   "version": "3.12.3"
  }
 },
 "nbformat": 4,
 "nbformat_minor": 2
}
