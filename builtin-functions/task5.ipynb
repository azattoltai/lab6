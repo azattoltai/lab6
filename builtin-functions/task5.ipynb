{
 "cells": [
  {
   "cell_type": "code",
   "execution_count": 2,
   "metadata": {},
   "outputs": [
    {
     "name": "stdout",
     "output_type": "stream",
     "text": [
      "Are all elements in the tuple true? True\n",
      "False\n",
      "True\n"
     ]
    }
   ],
   "source": [
    "def all_true(tup):\n",
    "    return all(tup)  \n",
    "\n",
    "t = (True, True, 1, \"Hello\")  \n",
    "print(f\"Are all elements in the tuple true? {all_true(t)}\")\n",
    "\n",
    "mytup = (True, True, False)\n",
    "mytup2 = (True, True, True)\n",
    "print(all(mytup))\n",
    "print(all(mytup2))\n"
   ]
  }
 ],
 "metadata": {
  "kernelspec": {
   "display_name": "Python 3",
   "language": "python",
   "name": "python3"
  },
  "language_info": {
   "codemirror_mode": {
    "name": "ipython",
    "version": 3
   },
   "file_extension": ".py",
   "mimetype": "text/x-python",
   "name": "python",
   "nbconvert_exporter": "python",
   "pygments_lexer": "ipython3",
   "version": "3.12.3"
  }
 },
 "nbformat": 4,
 "nbformat_minor": 2
}
